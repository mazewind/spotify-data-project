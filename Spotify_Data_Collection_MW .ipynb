{
 "cells": [
  {
   "cell_type": "code",
   "execution_count": 1,
   "metadata": {},
   "outputs": [
    {
     "name": "stdout",
     "output_type": "stream",
     "text": [
      "Defaulting to user installation because normal site-packages is not writeable\n",
      "Requirement already satisfied: requests in c:\\users\\sds\\lib\\site-packages (2.24.0)\n",
      "Requirement already satisfied: chardet<4,>=3.0.2 in c:\\users\\sds\\lib\\site-packages (from requests) (3.0.4)\n",
      "Requirement already satisfied: certifi>=2017.4.17 in c:\\users\\sds\\lib\\site-packages (from requests) (2020.6.20)\n",
      "Requirement already satisfied: idna<3,>=2.5 in c:\\users\\sds\\lib\\site-packages (from requests) (2.10)\n",
      "Requirement already satisfied: urllib3!=1.25.0,!=1.25.1,<1.26,>=1.21.1 in c:\\users\\sds\\lib\\site-packages (from requests) (1.25.9)\n"
     ]
    }
   ],
   "source": [
    "!pip install requests"
   ]
  },
  {
   "cell_type": "code",
   "execution_count": 2,
   "metadata": {},
   "outputs": [],
   "source": [
    "\n",
    "import requests\n",
    "import datetime"
   ]
  },
  {
   "cell_type": "code",
   "execution_count": 3,
   "metadata": {},
   "outputs": [],
   "source": [
    "import base64"
   ]
  },
  {
   "cell_type": "code",
   "execution_count": 4,
   "metadata": {},
   "outputs": [],
   "source": [
    "client_id = '3159028618334df686b6d604c56fc665'\n",
    "client_secret = 'ffd7dc7920ac41e8a83c84f0f0a241a6'"
   ]
  },
  {
   "cell_type": "code",
   "execution_count": 5,
   "metadata": {},
   "outputs": [],
   "source": [
    "# do a lookup for a token\n",
    "# this token is for future requests (token expires at some point)"
   ]
  },
  {
   "cell_type": "code",
   "execution_count": 6,
   "metadata": {},
   "outputs": [],
   "source": [
    "class SpotifyAPI(object):\n",
    "    access_token = None\n",
    "    access_token_expires = datetime.datetime.now()\n",
    "    access_token_did_expire = True\n",
    "    client_id = None\n",
    "    client_secret = None\n",
    "    token_url = \"https://accounts.spotify.com/api/token\"\n",
    "    \n",
    "    def __init__(self, client_id, client_secret, *args, **kwargs):\n",
    "        super().__init__(*args, **kwargs)\n",
    "        self.client_id = client_id\n",
    "        self.client_secret = client_secret\n",
    "\n",
    "    def get_client_credentials(self):\n",
    "        \"\"\"\n",
    "        Returns a base64 encoded string\n",
    "        \"\"\"\n",
    "        client_id = self.client_id\n",
    "        client_secret = self.client_secret\n",
    "        if client_secret == None or client_id == None:\n",
    "            raise Exception(\"You must set client_id and client_secret\")\n",
    "        client_creds = f\"{client_id}:{client_secret}\"\n",
    "        client_creds_b64 = base64.b64encode(client_creds.encode())\n",
    "        return client_creds_b64.decode()\n",
    "    \n",
    "    def get_token_headers(self):\n",
    "        client_creds_b64 = self.get_client_credentials()\n",
    "        return {\n",
    "            \"Authorization\": f\"Basic {client_creds_b64}\"\n",
    "        }\n",
    "    \n",
    "    def get_token_data(self):\n",
    "        return {\n",
    "            \"grant_type\": \"client_credentials\"\n",
    "        } \n",
    "    \n",
    "    def perform_auth(self):\n",
    "        token_url = self.token_url\n",
    "        token_data = self.get_token_data()\n",
    "        token_headers = self.get_token_headers()\n",
    "        r = requests.post(token_url, data=token_data, headers=token_headers)\n",
    "        if r.status_code not in range(200, 299):\n",
    "            return False\n",
    "        data = r.json()\n",
    "        now = datetime.datetime.now()\n",
    "        access_token = data['access_token']\n",
    "        expires_in = data['expires_in'] # seconds\n",
    "        expires = now + datetime.timedelta(seconds=expires_in)\n",
    "        self.access_token = access_token\n",
    "        self.access_token_expires = expires\n",
    "        self.access_token_did_expire = expires < now\n",
    "        return True"
   ]
  },
  {
   "cell_type": "code",
   "execution_count": 7,
   "metadata": {},
   "outputs": [],
   "source": [
    "spotify = SpotifyAPI(client_id, client_secret)"
   ]
  },
  {
   "cell_type": "code",
   "execution_count": 8,
   "metadata": {},
   "outputs": [
    {
     "data": {
      "text/plain": [
       "True"
      ]
     },
     "execution_count": 8,
     "metadata": {},
     "output_type": "execute_result"
    }
   ],
   "source": [
    "\n",
    "spotify.perform_auth()"
   ]
  },
  {
   "cell_type": "code",
   "execution_count": 9,
   "metadata": {},
   "outputs": [
    {
     "data": {
      "text/plain": [
       "'BQB1QRsLHtcWFiPK4AF6srTpapvbkKmd1k3ZK7dviJQ8tiuaDYxwLaOzRVhLdKo9wd9c3pAu_tkcwFJjNxM'"
      ]
     },
     "execution_count": 9,
     "metadata": {},
     "output_type": "execute_result"
    }
   ],
   "source": [
    "\n",
    "spotify.access_token"
   ]
  },
  {
   "cell_type": "code",
   "execution_count": 10,
   "metadata": {},
   "outputs": [],
   "source": [
    "# spotify.search"
   ]
  },
  {
   "cell_type": "code",
   "execution_count": 14,
   "metadata": {},
   "outputs": [],
   "source": [
    "import spotipy\n",
    "from spotipy.oauth2 import SpotifyClientCredentials\n",
    "\n",
    "cid =\"3159028618334df686b6d604c56fc665\" \n",
    "secret = \"ffd7dc7920ac41e8a83c84f0f0a241a6\"\n",
    "\n",
    "\n",
    "client_credentials_manager = SpotifyClientCredentials(client_id=cid, client_secret=secret)\n",
    "sp = spotipy.Spotify(client_credentials_manager=client_credentials_manager)"
   ]
  },
  {
   "cell_type": "code",
   "execution_count": 22,
   "metadata": {},
   "outputs": [
    {
     "name": "stdout",
     "output_type": "stream",
     "text": [
      "Time to run this code (in seconds): 3.01299929999999\n"
     ]
    }
   ],
   "source": [
    "import timeit\n",
    "start = timeit.default_timer()\n",
    "\n",
    "# create empty lists where the results are going to be stored\n",
    "artist_name = []\n",
    "track_name = []\n",
    "popularity = []\n",
    "track_id = []\n",
    "\n",
    "for i in range(0,1000,50):\n",
    "    track_results = sp.search(q='year:2019', type='track', limit=50,offset=i)\n",
    "    for i, t in enumerate(track_results['tracks']['items']):\n",
    "        artist_name.append(t['artists'][0]['name'])\n",
    "        track_name.append(t['name'])\n",
    "        track_id.append(t['id'])\n",
    "        popularity.append(t['popularity'])\n",
    "      \n",
    "\n",
    "stop = timeit.default_timer()\n",
    "print ('Time to run this code (in seconds):', stop - start)"
   ]
  },
  {
   "cell_type": "code",
   "execution_count": 23,
   "metadata": {},
   "outputs": [
    {
     "name": "stdout",
     "output_type": "stream",
     "text": [
      "number of elements in the track_id list: 1000\n"
     ]
    }
   ],
   "source": [
    "print('number of elements in the track_id list:', len(track_id))"
   ]
  },
  {
   "cell_type": "code",
   "execution_count": 24,
   "metadata": {},
   "outputs": [
    {
     "name": "stdout",
     "output_type": "stream",
     "text": [
      "(1000, 4)\n"
     ]
    },
    {
     "data": {
      "text/html": [
       "<div>\n",
       "<style scoped>\n",
       "    .dataframe tbody tr th:only-of-type {\n",
       "        vertical-align: middle;\n",
       "    }\n",
       "\n",
       "    .dataframe tbody tr th {\n",
       "        vertical-align: top;\n",
       "    }\n",
       "\n",
       "    .dataframe thead th {\n",
       "        text-align: right;\n",
       "    }\n",
       "</style>\n",
       "<table border=\"1\" class=\"dataframe\">\n",
       "  <thead>\n",
       "    <tr style=\"text-align: right;\">\n",
       "      <th></th>\n",
       "      <th>artist_name</th>\n",
       "      <th>track_name</th>\n",
       "      <th>track_id</th>\n",
       "      <th>popularity</th>\n",
       "    </tr>\n",
       "  </thead>\n",
       "  <tbody>\n",
       "    <tr>\n",
       "      <th>0</th>\n",
       "      <td>Harry Styles</td>\n",
       "      <td>Watermelon Sugar</td>\n",
       "      <td>6UelLqGlWMcVH1E5c4H7lY</td>\n",
       "      <td>97</td>\n",
       "    </tr>\n",
       "    <tr>\n",
       "      <th>1</th>\n",
       "      <td>Roddy Ricch</td>\n",
       "      <td>The Box</td>\n",
       "      <td>0nbXyq5TXYPCO7pr3N8S4I</td>\n",
       "      <td>92</td>\n",
       "    </tr>\n",
       "    <tr>\n",
       "      <th>2</th>\n",
       "      <td>Surfaces</td>\n",
       "      <td>Sunday Best</td>\n",
       "      <td>1Cv1YLb4q0RzL6pybtaMLo</td>\n",
       "      <td>91</td>\n",
       "    </tr>\n",
       "    <tr>\n",
       "      <th>3</th>\n",
       "      <td>Post Malone</td>\n",
       "      <td>Circles</td>\n",
       "      <td>21jGcNKet2qwijlDFuPiPb</td>\n",
       "      <td>91</td>\n",
       "    </tr>\n",
       "    <tr>\n",
       "      <th>4</th>\n",
       "      <td>Juice WRLD</td>\n",
       "      <td>Robbery</td>\n",
       "      <td>6Hj9jySrnFppAI0sEMCZpJ</td>\n",
       "      <td>88</td>\n",
       "    </tr>\n",
       "  </tbody>\n",
       "</table>\n",
       "</div>"
      ],
      "text/plain": [
       "    artist_name        track_name                track_id  popularity\n",
       "0  Harry Styles  Watermelon Sugar  6UelLqGlWMcVH1E5c4H7lY          97\n",
       "1   Roddy Ricch           The Box  0nbXyq5TXYPCO7pr3N8S4I          92\n",
       "2      Surfaces       Sunday Best  1Cv1YLb4q0RzL6pybtaMLo          91\n",
       "3   Post Malone           Circles  21jGcNKet2qwijlDFuPiPb          91\n",
       "4    Juice WRLD           Robbery  6Hj9jySrnFppAI0sEMCZpJ          88"
      ]
     },
     "execution_count": 24,
     "metadata": {},
     "output_type": "execute_result"
    }
   ],
   "source": [
    "import pandas as pd\n",
    "\n",
    "df_tracks = pd.DataFrame({'artist_name':artist_name,'track_name':track_name,'track_id':track_id,'popularity':popularity})\n",
    "print(df_tracks.shape)\n",
    "df_tracks.head()"
   ]
  },
  {
   "cell_type": "code",
   "execution_count": 25,
   "metadata": {},
   "outputs": [
    {
     "name": "stdout",
     "output_type": "stream",
     "text": [
      "<class 'pandas.core.frame.DataFrame'>\n",
      "RangeIndex: 1000 entries, 0 to 999\n",
      "Data columns (total 4 columns):\n",
      " #   Column       Non-Null Count  Dtype \n",
      "---  ------       --------------  ----- \n",
      " 0   artist_name  1000 non-null   object\n",
      " 1   track_name   1000 non-null   object\n",
      " 2   track_id     1000 non-null   object\n",
      " 3   popularity   1000 non-null   int64 \n",
      "dtypes: int64(1), object(3)\n",
      "memory usage: 31.4+ KB\n"
     ]
    }
   ],
   "source": [
    "df_tracks.info()"
   ]
  },
  {
   "cell_type": "code",
   "execution_count": 26,
   "metadata": {},
   "outputs": [
    {
     "data": {
      "text/plain": [
       "29"
      ]
     },
     "execution_count": 26,
     "metadata": {},
     "output_type": "execute_result"
    }
   ],
   "source": [
    "# group the entries by artist_name and track_name and check for duplicates\n",
    "\n",
    "grouped = df_tracks.groupby(['artist_name','track_name'], as_index=True).size()\n",
    "grouped[grouped > 1].count()"
   ]
  },
  {
   "cell_type": "code",
   "execution_count": 27,
   "metadata": {},
   "outputs": [
    {
     "data": {
      "text/plain": [
       "0"
      ]
     },
     "execution_count": 27,
     "metadata": {},
     "output_type": "execute_result"
    }
   ],
   "source": [
    "df_tracks.drop_duplicates(subset=['artist_name','track_name'], inplace=True)\n",
    "# doing the same grouping as before to verify the solution\n",
    "grouped_after_dropping = df_tracks.groupby(['artist_name','track_name'], as_index=True).size()\n",
    "grouped_after_dropping[grouped_after_dropping > 1].count()\n"
   ]
  },
  {
   "cell_type": "code",
   "execution_count": 28,
   "metadata": {},
   "outputs": [
    {
     "data": {
      "text/plain": [
       "(971, 4)"
      ]
     },
     "execution_count": 28,
     "metadata": {},
     "output_type": "execute_result"
    }
   ],
   "source": [
    "df_tracks.shape\n"
   ]
  },
  {
   "cell_type": "code",
   "execution_count": 29,
   "metadata": {},
   "outputs": [
    {
     "name": "stdout",
     "output_type": "stream",
     "text": [
      "Number of tracks where no audio features were available: 0\n",
      "Time to run this code (in seconds): 1.2871819000000073\n"
     ]
    }
   ],
   "source": [
    "# Audio Features\n",
    "\n",
    "# again measuring the time\n",
    "start = timeit.default_timer()\n",
    "\n",
    "# empty list, batchsize and the counter for None results\n",
    "rows = []\n",
    "batchsize = 100\n",
    "None_counter = 0\n",
    "\n",
    "for i in range(0,len(df_tracks['track_id']),batchsize):\n",
    "    batch = df_tracks['track_id'][i:i+batchsize]\n",
    "    feature_results = sp.audio_features(batch)\n",
    "    for i, t in enumerate(feature_results):\n",
    "        if t == None:\n",
    "            None_counter = None_counter + 1\n",
    "        else:\n",
    "            rows.append(t)\n",
    "            \n",
    "print('Number of tracks where no audio features were available:',None_counter)\n",
    "\n",
    "stop = timeit.default_timer()\n",
    "print ('Time to run this code (in seconds):',stop - start)\n"
   ]
  },
  {
   "cell_type": "code",
   "execution_count": 30,
   "metadata": {},
   "outputs": [
    {
     "name": "stdout",
     "output_type": "stream",
     "text": [
      "number of elements in the track_id list: 971\n"
     ]
    }
   ],
   "source": [
    "print('number of elements in the track_id list:', len(rows))"
   ]
  },
  {
   "cell_type": "code",
   "execution_count": 31,
   "metadata": {},
   "outputs": [
    {
     "name": "stdout",
     "output_type": "stream",
     "text": [
      "Shape of the dataset: (971, 18)\n"
     ]
    },
    {
     "data": {
      "text/html": [
       "<div>\n",
       "<style scoped>\n",
       "    .dataframe tbody tr th:only-of-type {\n",
       "        vertical-align: middle;\n",
       "    }\n",
       "\n",
       "    .dataframe tbody tr th {\n",
       "        vertical-align: top;\n",
       "    }\n",
       "\n",
       "    .dataframe thead th {\n",
       "        text-align: right;\n",
       "    }\n",
       "</style>\n",
       "<table border=\"1\" class=\"dataframe\">\n",
       "  <thead>\n",
       "    <tr style=\"text-align: right;\">\n",
       "      <th></th>\n",
       "      <th>danceability</th>\n",
       "      <th>energy</th>\n",
       "      <th>key</th>\n",
       "      <th>loudness</th>\n",
       "      <th>mode</th>\n",
       "      <th>speechiness</th>\n",
       "      <th>acousticness</th>\n",
       "      <th>instrumentalness</th>\n",
       "      <th>liveness</th>\n",
       "      <th>valence</th>\n",
       "      <th>tempo</th>\n",
       "      <th>type</th>\n",
       "      <th>id</th>\n",
       "      <th>uri</th>\n",
       "      <th>track_href</th>\n",
       "      <th>analysis_url</th>\n",
       "      <th>duration_ms</th>\n",
       "      <th>time_signature</th>\n",
       "    </tr>\n",
       "  </thead>\n",
       "  <tbody>\n",
       "    <tr>\n",
       "      <th>0</th>\n",
       "      <td>0.548</td>\n",
       "      <td>0.816</td>\n",
       "      <td>0</td>\n",
       "      <td>-4.209</td>\n",
       "      <td>1</td>\n",
       "      <td>0.0465</td>\n",
       "      <td>0.122</td>\n",
       "      <td>0.00000</td>\n",
       "      <td>0.3350</td>\n",
       "      <td>0.557</td>\n",
       "      <td>95.390</td>\n",
       "      <td>audio_features</td>\n",
       "      <td>6UelLqGlWMcVH1E5c4H7lY</td>\n",
       "      <td>spotify:track:6UelLqGlWMcVH1E5c4H7lY</td>\n",
       "      <td>https://api.spotify.com/v1/tracks/6UelLqGlWMcV...</td>\n",
       "      <td>https://api.spotify.com/v1/audio-analysis/6Uel...</td>\n",
       "      <td>174000</td>\n",
       "      <td>4</td>\n",
       "    </tr>\n",
       "    <tr>\n",
       "      <th>1</th>\n",
       "      <td>0.896</td>\n",
       "      <td>0.586</td>\n",
       "      <td>10</td>\n",
       "      <td>-6.687</td>\n",
       "      <td>0</td>\n",
       "      <td>0.0559</td>\n",
       "      <td>0.104</td>\n",
       "      <td>0.00000</td>\n",
       "      <td>0.7900</td>\n",
       "      <td>0.642</td>\n",
       "      <td>116.971</td>\n",
       "      <td>audio_features</td>\n",
       "      <td>0nbXyq5TXYPCO7pr3N8S4I</td>\n",
       "      <td>spotify:track:0nbXyq5TXYPCO7pr3N8S4I</td>\n",
       "      <td>https://api.spotify.com/v1/tracks/0nbXyq5TXYPC...</td>\n",
       "      <td>https://api.spotify.com/v1/audio-analysis/0nbX...</td>\n",
       "      <td>196653</td>\n",
       "      <td>4</td>\n",
       "    </tr>\n",
       "    <tr>\n",
       "      <th>2</th>\n",
       "      <td>0.878</td>\n",
       "      <td>0.525</td>\n",
       "      <td>5</td>\n",
       "      <td>-6.832</td>\n",
       "      <td>1</td>\n",
       "      <td>0.0578</td>\n",
       "      <td>0.183</td>\n",
       "      <td>0.00000</td>\n",
       "      <td>0.0714</td>\n",
       "      <td>0.694</td>\n",
       "      <td>112.022</td>\n",
       "      <td>audio_features</td>\n",
       "      <td>1Cv1YLb4q0RzL6pybtaMLo</td>\n",
       "      <td>spotify:track:1Cv1YLb4q0RzL6pybtaMLo</td>\n",
       "      <td>https://api.spotify.com/v1/tracks/1Cv1YLb4q0Rz...</td>\n",
       "      <td>https://api.spotify.com/v1/audio-analysis/1Cv1...</td>\n",
       "      <td>158571</td>\n",
       "      <td>4</td>\n",
       "    </tr>\n",
       "    <tr>\n",
       "      <th>3</th>\n",
       "      <td>0.695</td>\n",
       "      <td>0.762</td>\n",
       "      <td>0</td>\n",
       "      <td>-3.497</td>\n",
       "      <td>1</td>\n",
       "      <td>0.0395</td>\n",
       "      <td>0.192</td>\n",
       "      <td>0.00244</td>\n",
       "      <td>0.0863</td>\n",
       "      <td>0.553</td>\n",
       "      <td>120.042</td>\n",
       "      <td>audio_features</td>\n",
       "      <td>21jGcNKet2qwijlDFuPiPb</td>\n",
       "      <td>spotify:track:21jGcNKet2qwijlDFuPiPb</td>\n",
       "      <td>https://api.spotify.com/v1/tracks/21jGcNKet2qw...</td>\n",
       "      <td>https://api.spotify.com/v1/audio-analysis/21jG...</td>\n",
       "      <td>215280</td>\n",
       "      <td>4</td>\n",
       "    </tr>\n",
       "    <tr>\n",
       "      <th>4</th>\n",
       "      <td>0.685</td>\n",
       "      <td>0.692</td>\n",
       "      <td>2</td>\n",
       "      <td>-5.122</td>\n",
       "      <td>1</td>\n",
       "      <td>0.0457</td>\n",
       "      <td>0.328</td>\n",
       "      <td>0.00000</td>\n",
       "      <td>0.1530</td>\n",
       "      <td>0.578</td>\n",
       "      <td>159.966</td>\n",
       "      <td>audio_features</td>\n",
       "      <td>6Hj9jySrnFppAI0sEMCZpJ</td>\n",
       "      <td>spotify:track:6Hj9jySrnFppAI0sEMCZpJ</td>\n",
       "      <td>https://api.spotify.com/v1/tracks/6Hj9jySrnFpp...</td>\n",
       "      <td>https://api.spotify.com/v1/audio-analysis/6Hj9...</td>\n",
       "      <td>240051</td>\n",
       "      <td>5</td>\n",
       "    </tr>\n",
       "  </tbody>\n",
       "</table>\n",
       "</div>"
      ],
      "text/plain": [
       "   danceability  energy  key  loudness  mode  speechiness  acousticness  \\\n",
       "0         0.548   0.816    0    -4.209     1       0.0465         0.122   \n",
       "1         0.896   0.586   10    -6.687     0       0.0559         0.104   \n",
       "2         0.878   0.525    5    -6.832     1       0.0578         0.183   \n",
       "3         0.695   0.762    0    -3.497     1       0.0395         0.192   \n",
       "4         0.685   0.692    2    -5.122     1       0.0457         0.328   \n",
       "\n",
       "   instrumentalness  liveness  valence    tempo            type  \\\n",
       "0           0.00000    0.3350    0.557   95.390  audio_features   \n",
       "1           0.00000    0.7900    0.642  116.971  audio_features   \n",
       "2           0.00000    0.0714    0.694  112.022  audio_features   \n",
       "3           0.00244    0.0863    0.553  120.042  audio_features   \n",
       "4           0.00000    0.1530    0.578  159.966  audio_features   \n",
       "\n",
       "                       id                                   uri  \\\n",
       "0  6UelLqGlWMcVH1E5c4H7lY  spotify:track:6UelLqGlWMcVH1E5c4H7lY   \n",
       "1  0nbXyq5TXYPCO7pr3N8S4I  spotify:track:0nbXyq5TXYPCO7pr3N8S4I   \n",
       "2  1Cv1YLb4q0RzL6pybtaMLo  spotify:track:1Cv1YLb4q0RzL6pybtaMLo   \n",
       "3  21jGcNKet2qwijlDFuPiPb  spotify:track:21jGcNKet2qwijlDFuPiPb   \n",
       "4  6Hj9jySrnFppAI0sEMCZpJ  spotify:track:6Hj9jySrnFppAI0sEMCZpJ   \n",
       "\n",
       "                                          track_href  \\\n",
       "0  https://api.spotify.com/v1/tracks/6UelLqGlWMcV...   \n",
       "1  https://api.spotify.com/v1/tracks/0nbXyq5TXYPC...   \n",
       "2  https://api.spotify.com/v1/tracks/1Cv1YLb4q0Rz...   \n",
       "3  https://api.spotify.com/v1/tracks/21jGcNKet2qw...   \n",
       "4  https://api.spotify.com/v1/tracks/6Hj9jySrnFpp...   \n",
       "\n",
       "                                        analysis_url  duration_ms  \\\n",
       "0  https://api.spotify.com/v1/audio-analysis/6Uel...       174000   \n",
       "1  https://api.spotify.com/v1/audio-analysis/0nbX...       196653   \n",
       "2  https://api.spotify.com/v1/audio-analysis/1Cv1...       158571   \n",
       "3  https://api.spotify.com/v1/audio-analysis/21jG...       215280   \n",
       "4  https://api.spotify.com/v1/audio-analysis/6Hj9...       240051   \n",
       "\n",
       "   time_signature  \n",
       "0               4  \n",
       "1               4  \n",
       "2               4  \n",
       "3               4  \n",
       "4               5  "
      ]
     },
     "execution_count": 31,
     "metadata": {},
     "output_type": "execute_result"
    }
   ],
   "source": [
    "df_audio_features = pd.DataFrame.from_dict(rows,orient='columns')\n",
    "print(\"Shape of the dataset:\", df_audio_features.shape)\n",
    "df_audio_features.head()"
   ]
  },
  {
   "cell_type": "code",
   "execution_count": 32,
   "metadata": {},
   "outputs": [
    {
     "name": "stdout",
     "output_type": "stream",
     "text": [
      "<class 'pandas.core.frame.DataFrame'>\n",
      "RangeIndex: 971 entries, 0 to 970\n",
      "Data columns (total 18 columns):\n",
      " #   Column            Non-Null Count  Dtype  \n",
      "---  ------            --------------  -----  \n",
      " 0   danceability      971 non-null    float64\n",
      " 1   energy            971 non-null    float64\n",
      " 2   key               971 non-null    int64  \n",
      " 3   loudness          971 non-null    float64\n",
      " 4   mode              971 non-null    int64  \n",
      " 5   speechiness       971 non-null    float64\n",
      " 6   acousticness      971 non-null    float64\n",
      " 7   instrumentalness  971 non-null    float64\n",
      " 8   liveness          971 non-null    float64\n",
      " 9   valence           971 non-null    float64\n",
      " 10  tempo             971 non-null    float64\n",
      " 11  type              971 non-null    object \n",
      " 12  id                971 non-null    object \n",
      " 13  uri               971 non-null    object \n",
      " 14  track_href        971 non-null    object \n",
      " 15  analysis_url      971 non-null    object \n",
      " 16  duration_ms       971 non-null    int64  \n",
      " 17  time_signature    971 non-null    int64  \n",
      "dtypes: float64(9), int64(4), object(5)\n",
      "memory usage: 136.7+ KB\n"
     ]
    }
   ],
   "source": [
    "df_audio_features.info()"
   ]
  },
  {
   "cell_type": "code",
   "execution_count": 33,
   "metadata": {},
   "outputs": [
    {
     "data": {
      "text/plain": [
       "(971, 14)"
      ]
     },
     "execution_count": 33,
     "metadata": {},
     "output_type": "execute_result"
    }
   ],
   "source": [
    "columns_to_drop = ['analysis_url','track_href','type','uri']\n",
    "df_audio_features.drop(columns_to_drop, axis=1,inplace=True)\n",
    "\n",
    "df_audio_features.rename(columns={'id': 'track_id'}, inplace=True)\n",
    "\n",
    "df_audio_features.shape"
   ]
  },
  {
   "cell_type": "code",
   "execution_count": 34,
   "metadata": {},
   "outputs": [
    {
     "name": "stdout",
     "output_type": "stream",
     "text": [
      "Shape of the dataset: (971, 14)\n"
     ]
    },
    {
     "data": {
      "text/html": [
       "<div>\n",
       "<style scoped>\n",
       "    .dataframe tbody tr th:only-of-type {\n",
       "        vertical-align: middle;\n",
       "    }\n",
       "\n",
       "    .dataframe tbody tr th {\n",
       "        vertical-align: top;\n",
       "    }\n",
       "\n",
       "    .dataframe thead th {\n",
       "        text-align: right;\n",
       "    }\n",
       "</style>\n",
       "<table border=\"1\" class=\"dataframe\">\n",
       "  <thead>\n",
       "    <tr style=\"text-align: right;\">\n",
       "      <th></th>\n",
       "      <th>artist_name</th>\n",
       "      <th>track_name</th>\n",
       "      <th>track_id</th>\n",
       "      <th>popularity</th>\n",
       "      <th>danceability</th>\n",
       "      <th>energy</th>\n",
       "      <th>key</th>\n",
       "      <th>loudness</th>\n",
       "      <th>mode</th>\n",
       "      <th>speechiness</th>\n",
       "      <th>acousticness</th>\n",
       "      <th>instrumentalness</th>\n",
       "      <th>liveness</th>\n",
       "      <th>valence</th>\n",
       "      <th>tempo</th>\n",
       "      <th>duration_ms</th>\n",
       "      <th>time_signature</th>\n",
       "    </tr>\n",
       "  </thead>\n",
       "  <tbody>\n",
       "    <tr>\n",
       "      <th>0</th>\n",
       "      <td>Harry Styles</td>\n",
       "      <td>Watermelon Sugar</td>\n",
       "      <td>6UelLqGlWMcVH1E5c4H7lY</td>\n",
       "      <td>97</td>\n",
       "      <td>0.548</td>\n",
       "      <td>0.816</td>\n",
       "      <td>0</td>\n",
       "      <td>-4.209</td>\n",
       "      <td>1</td>\n",
       "      <td>0.0465</td>\n",
       "      <td>0.122</td>\n",
       "      <td>0.00000</td>\n",
       "      <td>0.3350</td>\n",
       "      <td>0.557</td>\n",
       "      <td>95.390</td>\n",
       "      <td>174000</td>\n",
       "      <td>4</td>\n",
       "    </tr>\n",
       "    <tr>\n",
       "      <th>1</th>\n",
       "      <td>Roddy Ricch</td>\n",
       "      <td>The Box</td>\n",
       "      <td>0nbXyq5TXYPCO7pr3N8S4I</td>\n",
       "      <td>92</td>\n",
       "      <td>0.896</td>\n",
       "      <td>0.586</td>\n",
       "      <td>10</td>\n",
       "      <td>-6.687</td>\n",
       "      <td>0</td>\n",
       "      <td>0.0559</td>\n",
       "      <td>0.104</td>\n",
       "      <td>0.00000</td>\n",
       "      <td>0.7900</td>\n",
       "      <td>0.642</td>\n",
       "      <td>116.971</td>\n",
       "      <td>196653</td>\n",
       "      <td>4</td>\n",
       "    </tr>\n",
       "    <tr>\n",
       "      <th>2</th>\n",
       "      <td>Surfaces</td>\n",
       "      <td>Sunday Best</td>\n",
       "      <td>1Cv1YLb4q0RzL6pybtaMLo</td>\n",
       "      <td>91</td>\n",
       "      <td>0.878</td>\n",
       "      <td>0.525</td>\n",
       "      <td>5</td>\n",
       "      <td>-6.832</td>\n",
       "      <td>1</td>\n",
       "      <td>0.0578</td>\n",
       "      <td>0.183</td>\n",
       "      <td>0.00000</td>\n",
       "      <td>0.0714</td>\n",
       "      <td>0.694</td>\n",
       "      <td>112.022</td>\n",
       "      <td>158571</td>\n",
       "      <td>4</td>\n",
       "    </tr>\n",
       "    <tr>\n",
       "      <th>3</th>\n",
       "      <td>Post Malone</td>\n",
       "      <td>Circles</td>\n",
       "      <td>21jGcNKet2qwijlDFuPiPb</td>\n",
       "      <td>91</td>\n",
       "      <td>0.695</td>\n",
       "      <td>0.762</td>\n",
       "      <td>0</td>\n",
       "      <td>-3.497</td>\n",
       "      <td>1</td>\n",
       "      <td>0.0395</td>\n",
       "      <td>0.192</td>\n",
       "      <td>0.00244</td>\n",
       "      <td>0.0863</td>\n",
       "      <td>0.553</td>\n",
       "      <td>120.042</td>\n",
       "      <td>215280</td>\n",
       "      <td>4</td>\n",
       "    </tr>\n",
       "    <tr>\n",
       "      <th>4</th>\n",
       "      <td>Juice WRLD</td>\n",
       "      <td>Robbery</td>\n",
       "      <td>6Hj9jySrnFppAI0sEMCZpJ</td>\n",
       "      <td>88</td>\n",
       "      <td>0.685</td>\n",
       "      <td>0.692</td>\n",
       "      <td>2</td>\n",
       "      <td>-5.122</td>\n",
       "      <td>1</td>\n",
       "      <td>0.0457</td>\n",
       "      <td>0.328</td>\n",
       "      <td>0.00000</td>\n",
       "      <td>0.1530</td>\n",
       "      <td>0.578</td>\n",
       "      <td>159.966</td>\n",
       "      <td>240051</td>\n",
       "      <td>5</td>\n",
       "    </tr>\n",
       "  </tbody>\n",
       "</table>\n",
       "</div>"
      ],
      "text/plain": [
       "    artist_name        track_name                track_id  popularity  \\\n",
       "0  Harry Styles  Watermelon Sugar  6UelLqGlWMcVH1E5c4H7lY          97   \n",
       "1   Roddy Ricch           The Box  0nbXyq5TXYPCO7pr3N8S4I          92   \n",
       "2      Surfaces       Sunday Best  1Cv1YLb4q0RzL6pybtaMLo          91   \n",
       "3   Post Malone           Circles  21jGcNKet2qwijlDFuPiPb          91   \n",
       "4    Juice WRLD           Robbery  6Hj9jySrnFppAI0sEMCZpJ          88   \n",
       "\n",
       "   danceability  energy  key  loudness  mode  speechiness  acousticness  \\\n",
       "0         0.548   0.816    0    -4.209     1       0.0465         0.122   \n",
       "1         0.896   0.586   10    -6.687     0       0.0559         0.104   \n",
       "2         0.878   0.525    5    -6.832     1       0.0578         0.183   \n",
       "3         0.695   0.762    0    -3.497     1       0.0395         0.192   \n",
       "4         0.685   0.692    2    -5.122     1       0.0457         0.328   \n",
       "\n",
       "   instrumentalness  liveness  valence    tempo  duration_ms  time_signature  \n",
       "0           0.00000    0.3350    0.557   95.390       174000               4  \n",
       "1           0.00000    0.7900    0.642  116.971       196653               4  \n",
       "2           0.00000    0.0714    0.694  112.022       158571               4  \n",
       "3           0.00244    0.0863    0.553  120.042       215280               4  \n",
       "4           0.00000    0.1530    0.578  159.966       240051               5  "
      ]
     },
     "execution_count": 34,
     "metadata": {},
     "output_type": "execute_result"
    }
   ],
   "source": [
    "# merge both dataframes\n",
    "# the 'inner' method will make sure that we only keep track IDs present in both datasets\n",
    "df = pd.merge(df_tracks,df_audio_features,on='track_id',how='inner')\n",
    "print(\"Shape of the dataset:\", df_audio_features.shape)\n",
    "df.head()"
   ]
  },
  {
   "cell_type": "code",
   "execution_count": 35,
   "metadata": {},
   "outputs": [
    {
     "name": "stdout",
     "output_type": "stream",
     "text": [
      "<class 'pandas.core.frame.DataFrame'>\n",
      "Int64Index: 971 entries, 0 to 970\n",
      "Data columns (total 17 columns):\n",
      " #   Column            Non-Null Count  Dtype  \n",
      "---  ------            --------------  -----  \n",
      " 0   artist_name       971 non-null    object \n",
      " 1   track_name        971 non-null    object \n",
      " 2   track_id          971 non-null    object \n",
      " 3   popularity        971 non-null    int64  \n",
      " 4   danceability      971 non-null    float64\n",
      " 5   energy            971 non-null    float64\n",
      " 6   key               971 non-null    int64  \n",
      " 7   loudness          971 non-null    float64\n",
      " 8   mode              971 non-null    int64  \n",
      " 9   speechiness       971 non-null    float64\n",
      " 10  acousticness      971 non-null    float64\n",
      " 11  instrumentalness  971 non-null    float64\n",
      " 12  liveness          971 non-null    float64\n",
      " 13  valence           971 non-null    float64\n",
      " 14  tempo             971 non-null    float64\n",
      " 15  duration_ms       971 non-null    int64  \n",
      " 16  time_signature    971 non-null    int64  \n",
      "dtypes: float64(9), int64(5), object(3)\n",
      "memory usage: 136.5+ KB\n"
     ]
    }
   ],
   "source": [
    "df.info()"
   ]
  },
  {
   "cell_type": "code",
   "execution_count": 36,
   "metadata": {},
   "outputs": [
    {
     "data": {
      "text/html": [
       "<div>\n",
       "<style scoped>\n",
       "    .dataframe tbody tr th:only-of-type {\n",
       "        vertical-align: middle;\n",
       "    }\n",
       "\n",
       "    .dataframe tbody tr th {\n",
       "        vertical-align: top;\n",
       "    }\n",
       "\n",
       "    .dataframe thead th {\n",
       "        text-align: right;\n",
       "    }\n",
       "</style>\n",
       "<table border=\"1\" class=\"dataframe\">\n",
       "  <thead>\n",
       "    <tr style=\"text-align: right;\">\n",
       "      <th></th>\n",
       "      <th>artist_name</th>\n",
       "      <th>track_name</th>\n",
       "      <th>track_id</th>\n",
       "      <th>popularity</th>\n",
       "      <th>danceability</th>\n",
       "      <th>energy</th>\n",
       "      <th>key</th>\n",
       "      <th>loudness</th>\n",
       "      <th>mode</th>\n",
       "      <th>speechiness</th>\n",
       "      <th>acousticness</th>\n",
       "      <th>instrumentalness</th>\n",
       "      <th>liveness</th>\n",
       "      <th>valence</th>\n",
       "      <th>tempo</th>\n",
       "      <th>duration_ms</th>\n",
       "      <th>time_signature</th>\n",
       "    </tr>\n",
       "  </thead>\n",
       "  <tbody>\n",
       "  </tbody>\n",
       "</table>\n",
       "</div>"
      ],
      "text/plain": [
       "Empty DataFrame\n",
       "Columns: [artist_name, track_name, track_id, popularity, danceability, energy, key, loudness, mode, speechiness, acousticness, instrumentalness, liveness, valence, tempo, duration_ms, time_signature]\n",
       "Index: []"
      ]
     },
     "execution_count": 36,
     "metadata": {},
     "output_type": "execute_result"
    }
   ],
   "source": [
    "df[df.duplicated(subset=['artist_name','track_name'],keep=False)]"
   ]
  },
  {
   "cell_type": "code",
   "execution_count": 37,
   "metadata": {},
   "outputs": [],
   "source": [
    "df.to_csv('SpotifyAudioFeatures08082018.csv')"
   ]
  },
  {
   "cell_type": "code",
   "execution_count": null,
   "metadata": {},
   "outputs": [],
   "source": []
  }
 ],
 "metadata": {
  "kernelspec": {
   "display_name": "Python 3",
   "language": "python",
   "name": "python3"
  },
  "language_info": {
   "codemirror_mode": {
    "name": "ipython",
    "version": 3
   },
   "file_extension": ".py",
   "mimetype": "text/x-python",
   "name": "python",
   "nbconvert_exporter": "python",
   "pygments_lexer": "ipython3",
   "version": "3.8.3"
  }
 },
 "nbformat": 4,
 "nbformat_minor": 4
}
